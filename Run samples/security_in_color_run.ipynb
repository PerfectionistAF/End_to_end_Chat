{
 "cells": [
  {
   "cell_type": "code",
   "execution_count": 4,
   "id": "4b053b69-fcfe-4ff9-a2bb-caa938190779",
   "metadata": {},
   "outputs": [
    {
     "name": "stdout",
     "output_type": "stream",
     "text": [
      "\u001b[36mThis text is red in color\n",
      "\u001b[35mThis text is red in color\n"
     ]
    }
   ],
   "source": [
    "%run ./security.py"
   ]
  },
  {
   "cell_type": "code",
   "execution_count": null,
   "id": "852b6968-fa98-4d7d-b596-c6d3d5070904",
   "metadata": {},
   "outputs": [],
   "source": []
  }
 ],
 "metadata": {
  "kernelspec": {
   "display_name": "Python 3 (ipykernel)",
   "language": "python",
   "name": "python3"
  },
  "language_info": {
   "codemirror_mode": {
    "name": "ipython",
    "version": 3
   },
   "file_extension": ".py",
   "mimetype": "text/x-python",
   "name": "python",
   "nbconvert_exporter": "python",
   "pygments_lexer": "ipython3",
   "version": "3.11.7"
  }
 },
 "nbformat": 4,
 "nbformat_minor": 5
}
