{
 "cells": [
  {
   "cell_type": "code",
   "execution_count": 4,
   "id": "64046a18-09d7-467f-bfa8-0111db37e5a2",
   "metadata": {},
   "outputs": [
    {
     "name": "stdin",
     "output_type": "stream",
     "text": [
      "YOU: Trial in hybrid enc aes, rsa\n"
     ]
    },
    {
     "name": "stdout",
     "output_type": "stream",
     "text": [
      "Original message: b'Trial in hybrid enc aes, rsa'\n",
      "Encrypted message: b\"'\\xe8\\xc5`E\\xbb\\xd0\\xd8\\\\\\xabd\\x9c\\xc1\\x9e\\x96\\xc3\\xe6K\\xfa\\xbbZ\\x08D\\xa1~cJ\\xbd\"\n",
      "Decrypted message: b'Trial in hybrid enc aes, rsa'\n"
     ]
    }
   ],
   "source": [
    "%run E:/VSprojects/Security_Suite/GitHub/End_to_end_Chat/End2End_Chat/hybrid_encryption.py"
   ]
  },
  {
   "cell_type": "code",
   "execution_count": 5,
   "id": "ff4b8475-c0ae-4144-8197-fb859a77338b",
   "metadata": {},
   "outputs": [
    {
     "ename": "SyntaxError",
     "evalue": "expected ':' (hybrid_encryption.py, line 96)",
     "output_type": "error",
     "traceback": [
      "\u001b[1;36m  File \u001b[1;32mE:\\VSprojects\\Security_Suite\\GitHub\\End_to_end_Chat\\End2End_Chat\\hybrid_encryption.py:96\u001b[1;36m\u001b[0m\n\u001b[1;33m    else if (choice == 2):\u001b[0m\n\u001b[1;37m         ^\u001b[0m\n\u001b[1;31mSyntaxError\u001b[0m\u001b[1;31m:\u001b[0m expected ':'\n"
     ]
    }
   ],
   "source": [
    "%run E:/VSprojects/Security_Suite/GitHub/End_to_end_Chat/End2End_Chat/hybrid_encryption.py"
   ]
  },
  {
   "cell_type": "code",
   "execution_count": 6,
   "id": "d3147467-f0ed-453b-9a84-9ca85ec90c00",
   "metadata": {},
   "outputs": [
    {
     "ename": "SyntaxError",
     "evalue": "expected ':' (hybrid_encryption.py, line 96)",
     "output_type": "error",
     "traceback": [
      "\u001b[1;36m  File \u001b[1;32mE:\\VSprojects\\Security_Suite\\GitHub\\End_to_end_Chat\\End2End_Chat\\hybrid_encryption.py:96\u001b[1;36m\u001b[0m\n\u001b[1;33m    else if(choice == 2):\u001b[0m\n\u001b[1;37m         ^\u001b[0m\n\u001b[1;31mSyntaxError\u001b[0m\u001b[1;31m:\u001b[0m expected ':'\n"
     ]
    }
   ],
   "source": [
    "%run E:/VSprojects/Security_Suite/GitHub/End_to_end_Chat/End2End_Chat/hybrid_encryption.py"
   ]
  },
  {
   "cell_type": "code",
   "execution_count": 7,
   "id": "e3238125-f447-49bc-9945-8859d69872f6",
   "metadata": {},
   "outputs": [
    {
     "name": "stdin",
     "output_type": "stream",
     "text": [
      "Enter (1) for RSA + AES | (2) for ECC + AES | (3) for RSA + DES | (4) for ECC + DES : 1\n"
     ]
    },
    {
     "name": "stdout",
     "output_type": "stream",
     "text": [
      "Invalid choice or timeout\n"
     ]
    }
   ],
   "source": [
    "%run E:/VSprojects/Security_Suite/GitHub/End_to_end_Chat/End2End_Chat/hybrid_encryption.py"
   ]
  },
  {
   "cell_type": "code",
   "execution_count": 8,
   "id": "00742937-e260-4fce-92a0-48eb60efa738",
   "metadata": {},
   "outputs": [
    {
     "name": "stdin",
     "output_type": "stream",
     "text": [
      "Enter (1) for RSA + AES | (2) for ECC + AES | (3) for RSA + DES | (4) for ECC + DES : 1\n",
      "YOU: Hello RSA AND AES\n"
     ]
    },
    {
     "name": "stdout",
     "output_type": "stream",
     "text": [
      "Original message: b'Hello RSA AND AES'\n",
      "Encrypted message: b'u\\xdd:\\x80S\\x8a\\t\\x84\\x18\\x84\\x01\\xc2\\x8e\\x8d\\xbf\"|'\n",
      "Decrypted message: b'Hello RSA AND AES'\n"
     ]
    }
   ],
   "source": [
    "%run E:/VSprojects/Security_Suite/GitHub/End_to_end_Chat/End2End_Chat/hybrid_encryption.py"
   ]
  },
  {
   "cell_type": "code",
   "execution_count": null,
   "id": "5f51372a-4e6d-4300-ac99-067946c318db",
   "metadata": {},
   "outputs": [],
   "source": [
    "%run E:/VSprojects/Security_Suite/GitHub/End_to_end_Chat/End2End_Chat/hybrid_encryption.py"
   ]
  },
  {
   "cell_type": "code",
   "execution_count": null,
   "id": "d5f78c4a-08ed-4c1b-bc07-6b24bb230c0f",
   "metadata": {},
   "outputs": [],
   "source": []
  }
 ],
 "metadata": {
  "kernelspec": {
   "display_name": "Python 3 (ipykernel)",
   "language": "python",
   "name": "python3"
  },
  "language_info": {
   "codemirror_mode": {
    "name": "ipython",
    "version": 3
   },
   "file_extension": ".py",
   "mimetype": "text/x-python",
   "name": "python",
   "nbconvert_exporter": "python",
   "pygments_lexer": "ipython3",
   "version": "3.11.7"
  }
 },
 "nbformat": 4,
 "nbformat_minor": 5
}
