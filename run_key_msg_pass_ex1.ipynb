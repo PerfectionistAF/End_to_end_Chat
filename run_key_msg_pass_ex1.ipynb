{
 "cells": [
  {
   "cell_type": "code",
   "execution_count": 1,
   "id": "43041049-4859-408f-87db-850cef6cefe9",
   "metadata": {},
   "outputs": [
    {
     "name": "stdout",
     "output_type": "stream",
     "text": [
      "Original message: b'Hello. Bob. Please receive this secret message secretly.'\n",
      "Encrypted message: b'\\x1f\\xbf\\xb7\\xdepW9\\xa8v\\xe1\\xd5#x\\xc65\\xacM\\xca\\x80\\xb1\\xf2\\xf9d\\x87D\\xc9R\\x90q2\\x9e~\\xc0qC\\x16\\r\\xa8\\xb0\\xfe1\\xb9S\\xf1@-7\\xf5\\x04\\xa3\\x86\\xb2\\xa3\\n\\x0f\\x96'\n",
      "Decrypted message: b'Hello. Bob. Please receive this secret message secretly.'\n"
     ]
    }
   ],
   "source": [
    "%run E:/VSprojects/Security_Suite/GitHub/End_to_end_Chat/End2End_Chat/key_message_passing.py"
   ]
  },
  {
   "cell_type": "code",
   "execution_count": null,
   "id": "ef086b3d-f868-4ca8-a5ba-1302c66453e0",
   "metadata": {},
   "outputs": [],
   "source": []
  }
 ],
 "metadata": {
  "kernelspec": {
   "display_name": "Python 3 (ipykernel)",
   "language": "python",
   "name": "python3"
  },
  "language_info": {
   "codemirror_mode": {
    "name": "ipython",
    "version": 3
   },
   "file_extension": ".py",
   "mimetype": "text/x-python",
   "name": "python",
   "nbconvert_exporter": "python",
   "pygments_lexer": "ipython3",
   "version": "3.11.7"
  }
 },
 "nbformat": 4,
 "nbformat_minor": 5
}
