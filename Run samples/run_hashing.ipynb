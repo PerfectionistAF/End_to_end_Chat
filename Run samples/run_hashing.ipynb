{
 "cells": [
  {
   "cell_type": "code",
   "execution_count": 1,
   "id": "6ac8deb6-f80e-4e01-a0bb-7b579b248a52",
   "metadata": {},
   "outputs": [
    {
     "name": "stdout",
     "output_type": "stream",
     "text": [
      "ac5b208b4d35ec79fa7c14b7a31f9c80392cdab2bc58bc5b79bcfe64b044d899\n",
      "True\n"
     ]
    }
   ],
   "source": [
    "%run E:/VSprojects/Security_Suite/End_to_end_Chat/Hashing/hash.py"
   ]
  },
  {
   "cell_type": "code",
   "execution_count": 2,
   "id": "74222a4c-c514-41c3-bf40-66a0553529b4",
   "metadata": {},
   "outputs": [
    {
     "name": "stdout",
     "output_type": "stream",
     "text": [
      "62c0f043abae26c353336bd42a504aa936779e6fb0f69210bbba4aa9f8818760\n",
      "False\n"
     ]
    }
   ],
   "source": [
    "%run E:/VSprojects/Security_Suite/End_to_end_Chat/Hashing/hash_with_secret.py"
   ]
  },
  {
   "cell_type": "code",
   "execution_count": 3,
   "id": "9b86d56b-c789-4014-8294-e75d44f0f194",
   "metadata": {},
   "outputs": [],
   "source": [
    "#%run E:/VSprojects/Security_Suite/End_to_end_Chat/PKC/RSA.py"
   ]
  },
  {
   "cell_type": "code",
   "execution_count": null,
   "id": "3d55ad3c-4ce3-4d23-9769-fda8dfe9900f",
   "metadata": {},
   "outputs": [],
   "source": []
  },
  {
   "cell_type": "code",
   "execution_count": null,
   "id": "1fd06e0a-d0e6-4e68-af46-fa0da0f07b8e",
   "metadata": {},
   "outputs": [],
   "source": []
  }
 ],
 "metadata": {
  "kernelspec": {
   "display_name": "Python 3 (ipykernel)",
   "language": "python",
   "name": "python3"
  },
  "language_info": {
   "codemirror_mode": {
    "name": "ipython",
    "version": 3
   },
   "file_extension": ".py",
   "mimetype": "text/x-python",
   "name": "python",
   "nbconvert_exporter": "python",
   "pygments_lexer": "ipython3",
   "version": "3.11.7"
  }
 },
 "nbformat": 4,
 "nbformat_minor": 5
}
