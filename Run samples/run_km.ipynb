{
 "cells": [
  {
   "cell_type": "code",
   "execution_count": 3,
   "id": "d7ae21e1-79be-4c8a-aa13-5e743b59539e",
   "metadata": {},
   "outputs": [
    {
     "name": "stdin",
     "output_type": "stream",
     "text": [
      "YOU: no salt here\n"
     ]
    },
    {
     "name": "stdout",
     "output_type": "stream",
     "text": [
      "ENCRYPTED: b'gAAAAABmPRGnWTNgOJ6sF3hGYAYHk8TBysYvEZLTKPCBVHlvhjKagNvWgwHXU2h_01AOYLEUrboN9UKZXLDYpsOGLjYRbbDLCw=='\n",
      "DECRYPTED: no salt here\n"
     ]
    }
   ],
   "source": [
    "%run E:/VSprojects/Security_Suite/GitHub/End_to_end_Chat/End2End_Chat/fernet_test.py"
   ]
  },
  {
   "cell_type": "code",
   "execution_count": null,
   "id": "a2a75118-8aa2-4632-9377-5f5aa12d788e",
   "metadata": {},
   "outputs": [
    {
     "name": "stdin",
     "output_type": "stream",
     "text": [
      "Do you want to host(1) or do you want to connect(2):  1\n"
     ]
    },
    {
     "name": "stdout",
     "output_type": "stream",
     "text": [
      "Server is listening....\n"
     ]
    }
   ],
   "source": [
    "%run E:/VSprojects/Security_Suite/GitHub/End_to_end_Chat/DIM/DataIntegrity.py"
   ]
  },
  {
   "cell_type": "code",
   "execution_count": null,
   "id": "4fabfe83-9507-4d2a-84d7-4105a9e37790",
   "metadata": {},
   "outputs": [],
   "source": []
  }
 ],
 "metadata": {
  "kernelspec": {
   "display_name": "Python 3 (ipykernel)",
   "language": "python",
   "name": "python3"
  },
  "language_info": {
   "codemirror_mode": {
    "name": "ipython",
    "version": 3
   },
   "file_extension": ".py",
   "mimetype": "text/x-python",
   "name": "python",
   "nbconvert_exporter": "python",
   "pygments_lexer": "ipython3",
   "version": "3.11.7"
  }
 },
 "nbformat": 4,
 "nbformat_minor": 5
}
