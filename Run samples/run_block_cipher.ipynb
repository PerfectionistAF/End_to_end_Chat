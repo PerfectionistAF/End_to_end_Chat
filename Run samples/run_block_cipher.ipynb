{
 "cells": [
  {
   "cell_type": "code",
   "execution_count": 9,
   "id": "6ac8deb6-f80e-4e01-a0bb-7b579b248a52",
   "metadata": {},
   "outputs": [
    {
     "name": "stdin",
     "output_type": "stream",
     "text": [
      "YOU:  Hello again\n"
     ]
    },
    {
     "name": "stdout",
     "output_type": "stream",
     "text": [
      "Ciphertext:  b'|\\x97pJ_\\xf4\\x1b\\x15\\x80F\\x1e\\x92\\x06\\xad\\x19\\x92'\n",
      "\n",
      "Taken at:  2024-05-09 20:35:24.209375 \n",
      "\n",
      "Plaintext:  b'Hello again'\n"
     ]
    }
   ],
   "source": [
    "%run E:/VSprojects/Security_Suite/End_to_end_Chat/Block_Cipher/main_aes.py"
   ]
  },
  {
   "cell_type": "code",
   "execution_count": 10,
   "id": "73caeef8-ea53-4516-a71e-7db513695b1b",
   "metadata": {},
   "outputs": [
    {
     "name": "stdout",
     "output_type": "stream",
     "text": [
      "Plaintext test from binary files:  b'Hello again'\n",
      "\n",
      "TEST TRIPLE AES: \n",
      "\n"
     ]
    },
    {
     "name": "stdin",
     "output_type": "stream",
     "text": [
      "YOU:  Hello again in 3AES with 3 different keys\n"
     ]
    },
    {
     "name": "stdout",
     "output_type": "stream",
     "text": [
      "\n",
      "\n",
      "Ciphertext_0:  b'8=\\xeb\\x8f\\x1c?\\xa8\\xcc\\x90\\xc9`\\xf36\\xdf,o\\xbc\\xfc5\\xc6\\x16\\x8e\\xc9\\xf2>\\x8f-3\\xc8\\x15\\x97P\\xf8\\x99>\\xde\\x08\\xe4\\xb47\\xbd\\x13\\xbc\\xc9\\x02\\xb3zK' \n",
      "\n",
      "Key_0:  b'\\xf6\\x9e)\\xf1\\x06r\\x8ci\\x81\\xcb\\x83G2\\x9di$\\xf1\\xcb|Qx\\xa6\\xec\\xd8W\\x8b\\n\\xc8\\x10\\xc0`\\r' \n",
      "\n",
      "Plaintext_0:  b'%Pg5\\xa5\\x92\\xe0\\x05\\x15!\\x92\\xb0@\\x01\\xcaj\\x94\\x85#F\\xca\\xa9\\xa8_\\xa5\\r\\xe9\\xd4\\x1a\\xc3\\xab#*\\x95,/\\x98\\xc0\\x03\\x166\\xeb\\x06v0`\\x01b' \n",
      "\n",
      "Key_1:  b'F\\xd6g\\xf7\\xa7\\x11k;#\\xc7!\\x07\\x96\\xa7l\\xcd\\xe3\\xb7M\"\\xc8\\xf6\\xaa\\x08\\xe0\\xd9Y\\x9d\\xdf\\x93\\xa2\\n' \n",
      "\n",
      "Ciphertext_1:  b'\\xcb\\\\,\\xbc\\xed\\xbew,O\\x91&\\x8b=1Ma\\xa7B\\xee\\xd2\\xf1\\xa7}\\xa3KgA\\xb2J\\xfe6J\\xa7>\\xbf\\xe3\\x01\\xdf~\\xc7f\\x8c}\\x0fC \\xd6\\xf5\\xfa\\xae \\x8b\\xa7\\x140$\\x06\\xd4\\xb6\\x97\\x8a=\\x15K' \n",
      "\n",
      "Key_2:  b'\\t\\xf7\\x04\\x00Z\\x1c\\xa0\\x1bM\\x8fQ$x\\xf0\\xd7%,t\\xd7\\xfe@,[\\xc6g\"zA1\\x97+\\xf8' \n",
      "\n"
     ]
    }
   ],
   "source": [
    "%run E:/VSprojects/Security_Suite/End_to_end_Chat/Block_Cipher/test_aes.py"
   ]
  },
  {
   "cell_type": "code",
   "execution_count": 11,
   "id": "85bb75c2-3304-4593-86c7-db61fae6fe72",
   "metadata": {},
   "outputs": [
    {
     "name": "stdin",
     "output_type": "stream",
     "text": [
      "YOU:  hello, jupyter is my savior\n"
     ]
    },
    {
     "name": "stdout",
     "output_type": "stream",
     "text": [
      "Ciphertext:  b'\\x8bk\\x9b\\x9a\\x150^m\\x13\\xc0\\x8cY\\x10\\xe8!Mg\\xe2\\x89W\\x8e-\\xb8\\x11\\xa4\\x9a\\xb0'\n",
      "\n",
      "Taken at:  2024-05-09 20:39:15.412951 \n",
      "\n",
      "Plaintext:  b'hello, jupyter is my savior'\n"
     ]
    }
   ],
   "source": [
    "%run E:/VSprojects/Security_Suite/End_to_end_Chat/Block_Cipher/main_des.py"
   ]
  },
  {
   "cell_type": "code",
   "execution_count": 12,
   "id": "fdaaad6d-131a-4410-a638-dac3c3f4d5ea",
   "metadata": {},
   "outputs": [
    {
     "name": "stdout",
     "output_type": "stream",
     "text": [
      "Plaintext test from binary files:  b'hello, jupyter is my savior'\n",
      "\n",
      "TEST TRIPLE DES: \n",
      "\n"
     ]
    },
    {
     "name": "stdin",
     "output_type": "stream",
     "text": [
      "YOU:  This is the last run of this module on this kernel. Time for another one\n"
     ]
    },
    {
     "name": "stdout",
     "output_type": "stream",
     "text": [
      "\n",
      "\n",
      "Ciphertext_0:  b'\\xdf4\\xd8\\x18\\x83\\xaf\\x02>l\\x00fd~\\x99\\x84\\x8cC(\\xf1!U\\x1d\\xcbMEx\\xc6\\xc6%\\x02\\xa6\\xb3(\\xdf,\\xc5\\x89\\x94mWD\\x96\\xd0I|6F\\xc0f\\x82d\\x9a\\xb14\\xc5q\\xb2\\xa6\\xf7\\x03\"\\xf9\\xb5%\\x97\\xf2\\x9f\\xbev\\x14\\xdc\\x1e' \n",
      "\n",
      "Key_0:  b'\\x1aXK\\xec\\x0fW+\\xa9' \n",
      "\n",
      "Plaintext_0:  b'\\xa6\\xec\\xa4\\x15&\\x8f\\xcdx\\xe0\\x179\\x91\\x80\\xfa\\xe4\"o}\\x98`W3\\xc0\\x9b\\x80\\x07\\x87U\\x04n\\xd6\\x05\\x91\\x06Z(\\xa0\\xd3\\xd4|bqZ\\x05\\x85\\x02\\xee\\x07\\xa8[\\x0f\\x87\\xe5\\xd0c$\\xef%\\xbd\\xd1\\xad\\xbf%\\x83\\xaf\\xf7\\x9f\\x1e\\x8d\\n\\x82\\xa4' \n",
      "\n",
      "Key_1:  b'\\x06\\x82\\x9a\\xf4o\\xf8\\x13\\xeb' \n",
      "\n",
      "Ciphertext_1:  b\"#\\xc6\\xe9'\\xdaD]\\xb2\\x8c\\xc5\\xb0\\xf1\\x8fe\\x83X\\x1d\\xfc;\\xdf\\xe4c\\x87V\\x05\\xc3C\\xfbfr\\x0c\\xe7\\xfbI\\x8c\\xab\\x13e\\x0fTj\\xb2\\x93p\\x01Q=\\xd8L\\x97\\xb9)\\xd7\\x1e\\x85r\\xfaq^n!\\x83c\\xac\\xce\\xde\\r\\xe3\\xdd\\xb8\\xd1H\" \n",
      "\n",
      "Key_2:  b\"\\x88[^\\xea'\\xa3\\x82\\x91\" \n",
      "\n"
     ]
    }
   ],
   "source": [
    "%run E:/VSprojects/Security_Suite/End_to_end_Chat/Block_Cipher/test_des.py"
   ]
  },
  {
   "cell_type": "code",
   "execution_count": null,
   "id": "9b86d56b-c789-4014-8294-e75d44f0f194",
   "metadata": {},
   "outputs": [],
   "source": []
  }
 ],
 "metadata": {
  "kernelspec": {
   "display_name": "Python 3 (ipykernel)",
   "language": "python",
   "name": "python3"
  },
  "language_info": {
   "codemirror_mode": {
    "name": "ipython",
    "version": 3
   },
   "file_extension": ".py",
   "mimetype": "text/x-python",
   "name": "python",
   "nbconvert_exporter": "python",
   "pygments_lexer": "ipython3",
   "version": "3.11.7"
  }
 },
 "nbformat": 4,
 "nbformat_minor": 5
}
