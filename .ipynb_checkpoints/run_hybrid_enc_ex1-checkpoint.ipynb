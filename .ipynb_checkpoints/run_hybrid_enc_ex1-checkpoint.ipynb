{
 "cells": [
  {
   "cell_type": "code",
   "execution_count": 4,
   "id": "64046a18-09d7-467f-bfa8-0111db37e5a2",
   "metadata": {},
   "outputs": [
    {
     "name": "stdin",
     "output_type": "stream",
     "text": [
      "YOU: Trial in hybrid enc aes, rsa\n"
     ]
    },
    {
     "name": "stdout",
     "output_type": "stream",
     "text": [
      "Original message: b'Trial in hybrid enc aes, rsa'\n",
      "Encrypted message: b\"'\\xe8\\xc5`E\\xbb\\xd0\\xd8\\\\\\xabd\\x9c\\xc1\\x9e\\x96\\xc3\\xe6K\\xfa\\xbbZ\\x08D\\xa1~cJ\\xbd\"\n",
      "Decrypted message: b'Trial in hybrid enc aes, rsa'\n"
     ]
    }
   ],
   "source": [
    "%run E:/VSprojects/Security_Suite/GitHub/End_to_end_Chat/End2End_Chat/hybrid_encryption.py"
   ]
  },
  {
   "cell_type": "code",
   "execution_count": null,
   "id": "ff4b8475-c0ae-4144-8197-fb859a77338b",
   "metadata": {},
   "outputs": [],
   "source": []
  }
 ],
 "metadata": {
  "kernelspec": {
   "display_name": "Python 3 (ipykernel)",
   "language": "python",
   "name": "python3"
  },
  "language_info": {
   "codemirror_mode": {
    "name": "ipython",
    "version": 3
   },
   "file_extension": ".py",
   "mimetype": "text/x-python",
   "name": "python",
   "nbconvert_exporter": "python",
   "pygments_lexer": "ipython3",
   "version": "3.11.7"
  }
 },
 "nbformat": 4,
 "nbformat_minor": 5
}
